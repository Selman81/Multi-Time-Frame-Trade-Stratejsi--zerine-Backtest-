{
 "cells": [
  {
   "cell_type": "code",
   "execution_count": 1,
   "id": "2f5ad907",
   "metadata": {},
   "outputs": [],
   "source": [
    "#Aynı anda bir den fazla zaman diliminde tarama yaparak geliştirilen strateji "
   ]
  },
  {
   "cell_type": "code",
   "execution_count": 2,
   "id": "b67bb90c",
   "metadata": {},
   "outputs": [],
   "source": [
    "import pandas as pd\n",
    "import matplotlib.pyplot as plt\n",
    "from binance import Client\n",
    "client = Client()"
   ]
  },
  {
   "cell_type": "code",
   "execution_count": 3,
   "id": "683c4216",
   "metadata": {},
   "outputs": [],
   "source": [
    "def getdata(symbol, interval, start):\n",
    "    frame = pd.DataFrame(client.get_historical_klines(symbol,interval,start))\n",
    "    \n",
    "    frame = frame[[0,1,2,3,4]]\n",
    "    frame.columns = ['Date','Open','High','Low','Close']\n",
    "    frame.Date = pd.to_datetime(frame.Date, unit='ms')\n",
    "    frame.set_index('Date',inplace=True)\n",
    "    frame = frame.astype(float)\n",
    "    return frame"
   ]
  },
  {
   "cell_type": "code",
   "execution_count": 4,
   "id": "fb4ba443",
   "metadata": {},
   "outputs": [],
   "source": [
    "daily = getdata('ETHUSDT','1d','2022-01-01')"
   ]
  },
  {
   "cell_type": "code",
   "execution_count": 5,
   "id": "6aef6689",
   "metadata": {},
   "outputs": [],
   "source": [
    "hourly = getdata('ETHUSDT','1h','2022-01-01')"
   ]
  },
  {
   "cell_type": "code",
   "execution_count": 6,
   "id": "898a1dd7",
   "metadata": {},
   "outputs": [],
   "source": [
    "def calc_MA(df):\n",
    "    df['SMA_50'] = df.Close.rolling(50).mean()"
   ]
  },
  {
   "cell_type": "code",
   "execution_count": 7,
   "id": "ac3f5494",
   "metadata": {},
   "outputs": [],
   "source": [
    "calc_MA(daily)\n",
    "calc_MA(hourly)"
   ]
  },
  {
   "cell_type": "code",
   "execution_count": 8,
   "id": "f9014eb9",
   "metadata": {},
   "outputs": [],
   "source": [
    "daily['Buy'] = daily.Close > daily.SMA_50\n",
    "hourly['Buy'] = hourly.Close > hourly.SMA_50\n",
    "daily['Sell'] = daily.Close < daily.SMA_50\n",
    "hourly['Sell'] = hourly.Close < hourly.SMA_50"
   ]
  },
  {
   "cell_type": "code",
   "execution_count": 9,
   "id": "48fa65c3",
   "metadata": {},
   "outputs": [
    {
     "data": {
      "text/plain": [
       "Date\n",
       "2022-01-01 00:00:00      NaN\n",
       "2022-01-01 01:00:00    False\n",
       "2022-01-01 02:00:00    False\n",
       "2022-01-01 03:00:00    False\n",
       "2022-01-01 04:00:00    False\n",
       "                       ...  \n",
       "2022-10-23 15:00:00     True\n",
       "2022-10-23 16:00:00     True\n",
       "2022-10-23 17:00:00     True\n",
       "2022-10-23 18:00:00     True\n",
       "2022-10-23 19:00:00     True\n",
       "Name: Buy, Length: 7100, dtype: object"
      ]
     },
     "execution_count": 9,
     "metadata": {},
     "output_type": "execute_result"
    }
   ],
   "source": [
    "hourly.Buy.shift()"
   ]
  },
  {
   "cell_type": "code",
   "execution_count": 10,
   "id": "38d024c7",
   "metadata": {},
   "outputs": [],
   "source": [
    "hourly.Buy = hourly.Buy.shift().fillna(False)\n",
    "daily.Buy = daily.Buy.shift().fillna(False)\n",
    "hourly.Sell = hourly.Buy.shift().fillna(False)\n",
    "daily.Sell = daily.Buy.shift().fillna(False)"
   ]
  },
  {
   "cell_type": "code",
   "execution_count": 11,
   "id": "234d3a6f",
   "metadata": {},
   "outputs": [],
   "source": [
    "position = False \n",
    "buydates,selldates = [],[]\n",
    "\n",
    "for index_daily, row_daily in daily.iterrows():\n",
    "    if not position and row_daily['Buy']:\n",
    "        for index_hourly, row_hourly in hourly[index_daily : ][1:25].iterrows():\n",
    "            if not position and row_hourly['Buy']:\n",
    "                position= True \n",
    "                buydates.append(index_hourly)\n",
    "                \n",
    "    if position and row_daily['Sell']:\n",
    "        for index_hourly,row_hourly in hourly[index_daily:][1:25].iterrows():\n",
    "             if position and row_hourly['Sell']:\n",
    "                position= False\n",
    "                selldates.append(index_hourly)\n",
    "            "
   ]
  },
  {
   "cell_type": "code",
   "execution_count": 12,
   "id": "5b11cefd",
   "metadata": {},
   "outputs": [
    {
     "data": {
      "text/html": [
       "<div>\n",
       "<style scoped>\n",
       "    .dataframe tbody tr th:only-of-type {\n",
       "        vertical-align: middle;\n",
       "    }\n",
       "\n",
       "    .dataframe tbody tr th {\n",
       "        vertical-align: top;\n",
       "    }\n",
       "\n",
       "    .dataframe thead th {\n",
       "        text-align: right;\n",
       "    }\n",
       "</style>\n",
       "<table border=\"1\" class=\"dataframe\">\n",
       "  <thead>\n",
       "    <tr style=\"text-align: right;\">\n",
       "      <th></th>\n",
       "      <th>Open</th>\n",
       "      <th>High</th>\n",
       "      <th>Low</th>\n",
       "      <th>Close</th>\n",
       "      <th>SMA_50</th>\n",
       "      <th>Buy</th>\n",
       "      <th>Sell</th>\n",
       "    </tr>\n",
       "    <tr>\n",
       "      <th>Date</th>\n",
       "      <th></th>\n",
       "      <th></th>\n",
       "      <th></th>\n",
       "      <th></th>\n",
       "      <th></th>\n",
       "      <th></th>\n",
       "      <th></th>\n",
       "    </tr>\n",
       "  </thead>\n",
       "  <tbody>\n",
       "    <tr>\n",
       "      <th>2022-01-01</th>\n",
       "      <td>3676.22</td>\n",
       "      <td>3776.45</td>\n",
       "      <td>3673.46</td>\n",
       "      <td>3765.54</td>\n",
       "      <td>NaN</td>\n",
       "      <td>False</td>\n",
       "      <td>False</td>\n",
       "    </tr>\n",
       "    <tr>\n",
       "      <th>2022-01-02</th>\n",
       "      <td>3765.54</td>\n",
       "      <td>3857.44</td>\n",
       "      <td>3717.30</td>\n",
       "      <td>3828.27</td>\n",
       "      <td>NaN</td>\n",
       "      <td>False</td>\n",
       "      <td>False</td>\n",
       "    </tr>\n",
       "    <tr>\n",
       "      <th>2022-01-03</th>\n",
       "      <td>3828.11</td>\n",
       "      <td>3853.09</td>\n",
       "      <td>3680.00</td>\n",
       "      <td>3765.89</td>\n",
       "      <td>NaN</td>\n",
       "      <td>False</td>\n",
       "      <td>False</td>\n",
       "    </tr>\n",
       "    <tr>\n",
       "      <th>2022-01-04</th>\n",
       "      <td>3765.89</td>\n",
       "      <td>3900.73</td>\n",
       "      <td>3713.11</td>\n",
       "      <td>3785.11</td>\n",
       "      <td>NaN</td>\n",
       "      <td>False</td>\n",
       "      <td>False</td>\n",
       "    </tr>\n",
       "    <tr>\n",
       "      <th>2022-01-05</th>\n",
       "      <td>3785.10</td>\n",
       "      <td>3848.00</td>\n",
       "      <td>3415.00</td>\n",
       "      <td>3540.63</td>\n",
       "      <td>NaN</td>\n",
       "      <td>False</td>\n",
       "      <td>False</td>\n",
       "    </tr>\n",
       "    <tr>\n",
       "      <th>...</th>\n",
       "      <td>...</td>\n",
       "      <td>...</td>\n",
       "      <td>...</td>\n",
       "      <td>...</td>\n",
       "      <td>...</td>\n",
       "      <td>...</td>\n",
       "      <td>...</td>\n",
       "    </tr>\n",
       "    <tr>\n",
       "      <th>2022-10-19</th>\n",
       "      <td>1310.71</td>\n",
       "      <td>1313.50</td>\n",
       "      <td>1280.31</td>\n",
       "      <td>1285.09</td>\n",
       "      <td>1419.4234</td>\n",
       "      <td>False</td>\n",
       "      <td>False</td>\n",
       "    </tr>\n",
       "    <tr>\n",
       "      <th>2022-10-20</th>\n",
       "      <td>1285.09</td>\n",
       "      <td>1310.87</td>\n",
       "      <td>1270.36</td>\n",
       "      <td>1282.57</td>\n",
       "      <td>1413.9928</td>\n",
       "      <td>False</td>\n",
       "      <td>False</td>\n",
       "    </tr>\n",
       "    <tr>\n",
       "      <th>2022-10-21</th>\n",
       "      <td>1282.57</td>\n",
       "      <td>1306.97</td>\n",
       "      <td>1252.65</td>\n",
       "      <td>1299.75</td>\n",
       "      <td>1408.2646</td>\n",
       "      <td>False</td>\n",
       "      <td>False</td>\n",
       "    </tr>\n",
       "    <tr>\n",
       "      <th>2022-10-22</th>\n",
       "      <td>1299.76</td>\n",
       "      <td>1320.20</td>\n",
       "      <td>1294.32</td>\n",
       "      <td>1313.61</td>\n",
       "      <td>1403.0298</td>\n",
       "      <td>False</td>\n",
       "      <td>False</td>\n",
       "    </tr>\n",
       "    <tr>\n",
       "      <th>2022-10-23</th>\n",
       "      <td>1313.62</td>\n",
       "      <td>1335.00</td>\n",
       "      <td>1299.44</td>\n",
       "      <td>1331.15</td>\n",
       "      <td>1398.5036</td>\n",
       "      <td>False</td>\n",
       "      <td>False</td>\n",
       "    </tr>\n",
       "  </tbody>\n",
       "</table>\n",
       "<p>296 rows × 7 columns</p>\n",
       "</div>"
      ],
      "text/plain": [
       "               Open     High      Low    Close     SMA_50    Buy   Sell\n",
       "Date                                                                   \n",
       "2022-01-01  3676.22  3776.45  3673.46  3765.54        NaN  False  False\n",
       "2022-01-02  3765.54  3857.44  3717.30  3828.27        NaN  False  False\n",
       "2022-01-03  3828.11  3853.09  3680.00  3765.89        NaN  False  False\n",
       "2022-01-04  3765.89  3900.73  3713.11  3785.11        NaN  False  False\n",
       "2022-01-05  3785.10  3848.00  3415.00  3540.63        NaN  False  False\n",
       "...             ...      ...      ...      ...        ...    ...    ...\n",
       "2022-10-19  1310.71  1313.50  1280.31  1285.09  1419.4234  False  False\n",
       "2022-10-20  1285.09  1310.87  1270.36  1282.57  1413.9928  False  False\n",
       "2022-10-21  1282.57  1306.97  1252.65  1299.75  1408.2646  False  False\n",
       "2022-10-22  1299.76  1320.20  1294.32  1313.61  1403.0298  False  False\n",
       "2022-10-23  1313.62  1335.00  1299.44  1331.15  1398.5036  False  False\n",
       "\n",
       "[296 rows x 7 columns]"
      ]
     },
     "execution_count": 12,
     "metadata": {},
     "output_type": "execute_result"
    }
   ],
   "source": [
    "daily['2022-01-01': ]"
   ]
  },
  {
   "cell_type": "code",
   "execution_count": 13,
   "id": "c5b0bd49",
   "metadata": {},
   "outputs": [
    {
     "data": {
      "text/html": [
       "<div>\n",
       "<style scoped>\n",
       "    .dataframe tbody tr th:only-of-type {\n",
       "        vertical-align: middle;\n",
       "    }\n",
       "\n",
       "    .dataframe tbody tr th {\n",
       "        vertical-align: top;\n",
       "    }\n",
       "\n",
       "    .dataframe thead th {\n",
       "        text-align: right;\n",
       "    }\n",
       "</style>\n",
       "<table border=\"1\" class=\"dataframe\">\n",
       "  <thead>\n",
       "    <tr style=\"text-align: right;\">\n",
       "      <th></th>\n",
       "      <th>Open</th>\n",
       "      <th>High</th>\n",
       "      <th>Low</th>\n",
       "      <th>Close</th>\n",
       "      <th>SMA_50</th>\n",
       "      <th>Buy</th>\n",
       "      <th>Sell</th>\n",
       "    </tr>\n",
       "    <tr>\n",
       "      <th>Date</th>\n",
       "      <th></th>\n",
       "      <th></th>\n",
       "      <th></th>\n",
       "      <th></th>\n",
       "      <th></th>\n",
       "      <th></th>\n",
       "      <th></th>\n",
       "    </tr>\n",
       "  </thead>\n",
       "  <tbody>\n",
       "    <tr>\n",
       "      <th>2022-01-01 00:00:00</th>\n",
       "      <td>3676.22</td>\n",
       "      <td>3730.00</td>\n",
       "      <td>3676.22</td>\n",
       "      <td>3723.04</td>\n",
       "      <td>NaN</td>\n",
       "      <td>False</td>\n",
       "      <td>False</td>\n",
       "    </tr>\n",
       "    <tr>\n",
       "      <th>2022-01-01 01:00:00</th>\n",
       "      <td>3723.04</td>\n",
       "      <td>3748.45</td>\n",
       "      <td>3714.10</td>\n",
       "      <td>3724.89</td>\n",
       "      <td>NaN</td>\n",
       "      <td>False</td>\n",
       "      <td>False</td>\n",
       "    </tr>\n",
       "    <tr>\n",
       "      <th>2022-01-01 02:00:00</th>\n",
       "      <td>3724.88</td>\n",
       "      <td>3738.47</td>\n",
       "      <td>3722.23</td>\n",
       "      <td>3728.32</td>\n",
       "      <td>NaN</td>\n",
       "      <td>False</td>\n",
       "      <td>False</td>\n",
       "    </tr>\n",
       "    <tr>\n",
       "      <th>2022-01-01 03:00:00</th>\n",
       "      <td>3728.41</td>\n",
       "      <td>3737.00</td>\n",
       "      <td>3721.84</td>\n",
       "      <td>3723.96</td>\n",
       "      <td>NaN</td>\n",
       "      <td>False</td>\n",
       "      <td>False</td>\n",
       "    </tr>\n",
       "    <tr>\n",
       "      <th>2022-01-01 04:00:00</th>\n",
       "      <td>3723.96</td>\n",
       "      <td>3728.07</td>\n",
       "      <td>3707.24</td>\n",
       "      <td>3708.21</td>\n",
       "      <td>NaN</td>\n",
       "      <td>False</td>\n",
       "      <td>False</td>\n",
       "    </tr>\n",
       "    <tr>\n",
       "      <th>...</th>\n",
       "      <td>...</td>\n",
       "      <td>...</td>\n",
       "      <td>...</td>\n",
       "      <td>...</td>\n",
       "      <td>...</td>\n",
       "      <td>...</td>\n",
       "      <td>...</td>\n",
       "    </tr>\n",
       "    <tr>\n",
       "      <th>2022-10-23 15:00:00</th>\n",
       "      <td>1311.16</td>\n",
       "      <td>1316.50</td>\n",
       "      <td>1311.16</td>\n",
       "      <td>1313.60</td>\n",
       "      <td>1305.8568</td>\n",
       "      <td>True</td>\n",
       "      <td>True</td>\n",
       "    </tr>\n",
       "    <tr>\n",
       "      <th>2022-10-23 16:00:00</th>\n",
       "      <td>1313.60</td>\n",
       "      <td>1314.87</td>\n",
       "      <td>1311.19</td>\n",
       "      <td>1312.44</td>\n",
       "      <td>1306.5124</td>\n",
       "      <td>True</td>\n",
       "      <td>True</td>\n",
       "    </tr>\n",
       "    <tr>\n",
       "      <th>2022-10-23 17:00:00</th>\n",
       "      <td>1312.45</td>\n",
       "      <td>1330.88</td>\n",
       "      <td>1311.56</td>\n",
       "      <td>1328.69</td>\n",
       "      <td>1307.1368</td>\n",
       "      <td>True</td>\n",
       "      <td>True</td>\n",
       "    </tr>\n",
       "    <tr>\n",
       "      <th>2022-10-23 18:00:00</th>\n",
       "      <td>1328.69</td>\n",
       "      <td>1335.00</td>\n",
       "      <td>1325.16</td>\n",
       "      <td>1329.40</td>\n",
       "      <td>1307.7856</td>\n",
       "      <td>True</td>\n",
       "      <td>True</td>\n",
       "    </tr>\n",
       "    <tr>\n",
       "      <th>2022-10-23 19:00:00</th>\n",
       "      <td>1329.40</td>\n",
       "      <td>1331.94</td>\n",
       "      <td>1329.40</td>\n",
       "      <td>1331.14</td>\n",
       "      <td>1308.4358</td>\n",
       "      <td>True</td>\n",
       "      <td>True</td>\n",
       "    </tr>\n",
       "  </tbody>\n",
       "</table>\n",
       "<p>7100 rows × 7 columns</p>\n",
       "</div>"
      ],
      "text/plain": [
       "                        Open     High      Low    Close     SMA_50    Buy  \\\n",
       "Date                                                                        \n",
       "2022-01-01 00:00:00  3676.22  3730.00  3676.22  3723.04        NaN  False   \n",
       "2022-01-01 01:00:00  3723.04  3748.45  3714.10  3724.89        NaN  False   \n",
       "2022-01-01 02:00:00  3724.88  3738.47  3722.23  3728.32        NaN  False   \n",
       "2022-01-01 03:00:00  3728.41  3737.00  3721.84  3723.96        NaN  False   \n",
       "2022-01-01 04:00:00  3723.96  3728.07  3707.24  3708.21        NaN  False   \n",
       "...                      ...      ...      ...      ...        ...    ...   \n",
       "2022-10-23 15:00:00  1311.16  1316.50  1311.16  1313.60  1305.8568   True   \n",
       "2022-10-23 16:00:00  1313.60  1314.87  1311.19  1312.44  1306.5124   True   \n",
       "2022-10-23 17:00:00  1312.45  1330.88  1311.56  1328.69  1307.1368   True   \n",
       "2022-10-23 18:00:00  1328.69  1335.00  1325.16  1329.40  1307.7856   True   \n",
       "2022-10-23 19:00:00  1329.40  1331.94  1329.40  1331.14  1308.4358   True   \n",
       "\n",
       "                      Sell  \n",
       "Date                        \n",
       "2022-01-01 00:00:00  False  \n",
       "2022-01-01 01:00:00  False  \n",
       "2022-01-01 02:00:00  False  \n",
       "2022-01-01 03:00:00  False  \n",
       "2022-01-01 04:00:00  False  \n",
       "...                    ...  \n",
       "2022-10-23 15:00:00   True  \n",
       "2022-10-23 16:00:00   True  \n",
       "2022-10-23 17:00:00   True  \n",
       "2022-10-23 18:00:00   True  \n",
       "2022-10-23 19:00:00   True  \n",
       "\n",
       "[7100 rows x 7 columns]"
      ]
     },
     "execution_count": 13,
     "metadata": {},
     "output_type": "execute_result"
    }
   ],
   "source": [
    "hourly['2022-01-01': ]"
   ]
  },
  {
   "cell_type": "code",
   "execution_count": 14,
   "id": "2123326a",
   "metadata": {},
   "outputs": [
    {
     "data": {
      "text/plain": [
       "<matplotlib.collections.PathCollection at 0x260aed32a30>"
      ]
     },
     "execution_count": 14,
     "metadata": {},
     "output_type": "execute_result"
    },
    {
     "data": {
      "image/png": "[encoded data removed]",
      "text/plain": [
       "<Figure size 1080x360 with 1 Axes>"
      ]
     },
     "metadata": {
      "needs_background": "light"
     },
     "output_type": "display_data"
    }
   ],
   "source": [
    "plt.figure(figsize=(15,5))\n",
    "plt.plot(hourly.Close)\n",
    "plt.scatter(hourly.loc[buydates].index, hourly.loc[buydates].Close, marker='^',c='g',s=50)\n",
    "plt.scatter(hourly.loc[selldates].index, hourly.loc[selldates].Close, marker='v',c='r',s=50)"
   ]
  },
  {
   "cell_type": "code",
   "execution_count": 15,
   "id": "3e97e844",
   "metadata": {},
   "outputs": [],
   "source": [
    "buy_arr = hourly.loc[buydates].Open"
   ]
  },
  {
   "cell_type": "code",
   "execution_count": 16,
   "id": "9dd702ea",
   "metadata": {},
   "outputs": [],
   "source": [
    "sell_arr = hourly.loc[selldates].Open"
   ]
  },
  {
   "cell_type": "code",
   "execution_count": 17,
   "id": "5119212e",
   "metadata": {},
   "outputs": [],
   "source": [
    "buy_arr = buy_arr[:len(sell_arr)]"
   ]
  },
  {
   "cell_type": "code",
   "execution_count": 18,
   "id": "12ed863b",
   "metadata": {},
   "outputs": [
    {
     "data": {
      "text/plain": [
       "Date\n",
       "2022-03-01 01:00:00    2947.68\n",
       "2022-03-03 01:00:00    2965.47\n",
       "2022-03-17 01:00:00    2767.85\n",
       "2022-03-19 01:00:00    2966.14\n",
       "2022-03-20 01:00:00    2939.48\n",
       "                        ...   \n",
       "2022-08-25 01:00:00    1668.90\n",
       "2022-08-26 01:00:00    1675.26\n",
       "2022-09-10 01:00:00    1717.00\n",
       "2022-09-12 02:00:00    1761.61\n",
       "2022-09-13 12:00:00    1737.64\n",
       "Name: Open, Length: 68, dtype: float64"
      ]
     },
     "execution_count": 18,
     "metadata": {},
     "output_type": "execute_result"
    }
   ],
   "source": [
    "buy_arr"
   ]
  },
  {
   "cell_type": "code",
   "execution_count": 19,
   "id": "89c3e790",
   "metadata": {},
   "outputs": [
    {
     "data": {
      "text/plain": [
       "Date\n",
       "2022-03-02 01:00:00    2943.92\n",
       "2022-03-03 02:00:00    2946.16\n",
       "2022-03-18 01:00:00    2775.07\n",
       "2022-03-19 01:00:00    2966.14\n",
       "2022-03-20 01:00:00    2939.48\n",
       "                        ...   \n",
       "2022-08-25 01:00:00    1668.90\n",
       "2022-08-26 01:00:00    1675.26\n",
       "2022-09-11 01:00:00    1772.10\n",
       "2022-09-12 01:00:00    1735.57\n",
       "2022-09-13 13:00:00    1628.68\n",
       "Name: Open, Length: 68, dtype: float64"
      ]
     },
     "execution_count": 19,
     "metadata": {},
     "output_type": "execute_result"
    }
   ],
   "source": [
    "sell_arr"
   ]
  },
  {
   "cell_type": "code",
   "execution_count": 20,
   "id": "5870b2a4",
   "metadata": {},
   "outputs": [],
   "source": [
    "profit = (sell_arr.values - buy_arr.values) / buy_arr.values"
   ]
  },
  {
   "cell_type": "code",
   "execution_count": 21,
   "id": "a462afa5",
   "metadata": {},
   "outputs": [
    {
     "data": {
      "text/plain": [
       "array([-0.00127558, -0.00651162,  0.00260852,  0.        ,  0.        ,\n",
       "       -0.00069361, -0.00185271,  0.        ,  0.        ,  0.        ,\n",
       "       -0.00524401,  0.        ,  0.        ,  0.        , -0.00339528,\n",
       "        0.00640969,  0.02175438,  0.        ,  0.        , -0.00283436,\n",
       "        0.        ,  0.00159696, -0.00249282,  0.        ,  0.00096844,\n",
       "        0.        , -0.00095248,  0.        , -0.00288613,  0.        ,\n",
       "        0.        ,  0.00474433, -0.01099385, -0.02398503, -0.01420083,\n",
       "        0.        ,  0.00947779, -0.00267716,  0.00675769,  0.        ,\n",
       "        0.        ,  0.        ,  0.00131679, -0.01081126, -0.00311473,\n",
       "        0.00518135,  0.00875462,  0.        , -0.00020493, -0.00361345,\n",
       "        0.        ,  0.00329128,  0.        ,  0.        ,  0.        ,\n",
       "        0.        , -0.00691445,  0.01268627, -0.01299869, -0.00172461,\n",
       "       -0.00885729,  0.        ,  0.        ,  0.        ,  0.        ,\n",
       "        0.03209086, -0.01478193, -0.06270574])"
      ]
     },
     "execution_count": 21,
     "metadata": {},
     "output_type": "execute_result"
    }
   ],
   "source": [
    "profit"
   ]
  },
  {
   "cell_type": "code",
   "execution_count": 22,
   "id": "a094507a",
   "metadata": {},
   "outputs": [
    {
     "data": {
      "text/plain": [
       "-0.001295346768566516"
      ]
     },
     "execution_count": 22,
     "metadata": {},
     "output_type": "execute_result"
    }
   ],
   "source": [
    "profit.mean()"
   ]
  },
  {
   "cell_type": "code",
   "execution_count": 23,
   "id": "84d80d28",
   "metadata": {},
   "outputs": [
    {
     "data": {
      "text/plain": [
       "-0.08785816410056058"
      ]
     },
     "execution_count": 23,
     "metadata": {},
     "output_type": "execute_result"
    }
   ],
   "source": [
    "(profit +1).prod() - 1"
   ]
  },
  {
   "cell_type": "code",
   "execution_count": null,
   "id": "17c37221",
   "metadata": {},
   "outputs": [],
   "source": []
  }
 ],
 "metadata": {
  "kernelspec": {
   "display_name": "Python 3 (ipykernel)",
   "language": "python",
   "name": "python3"
  },
  "language_info": {
   "codemirror_mode": {
    "name": "ipython",
    "version": 3
   },
   "file_extension": ".py",
   "mimetype": "text/x-python",
   "name": "python",
   "nbconvert_exporter": "python",
   "pygments_lexer": "ipython3",
   "version": "3.9.12"
  }
 },
 "nbformat": 4,
 "nbformat_minor": 5
}
